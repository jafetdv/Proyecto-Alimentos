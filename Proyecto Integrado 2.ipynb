{
 "cells": [
  {
   "cell_type": "markdown",
   "metadata": {},
   "source": [
    "# Proyecto integrado 2"
   ]
  },
  {
   "cell_type": "markdown",
   "metadata": {},
   "source": [
    "### Objetivo del proyecto\n",
    "\n",
    "Investigar el comportamiento del usuario para la aplicación de la empresa."
   ]
  },
  {
   "cell_type": "code",
   "execution_count": 1,
   "metadata": {},
   "outputs": [],
   "source": [
    "import pandas as pd\n",
    "import scipy.stats as stats\n",
    "import datetime as dt\n",
    "import numpy as np\n",
    "import matplotlib.pyplot as plt\n",
    "import statsmodels.stats.api as sms\n",
    "from statsmodels.stats.proportion import proportions_ztest, proportion_confint\n",
    "import math\n",
    "from scipy.stats import norm"
   ]
  },
  {
   "cell_type": "markdown",
   "metadata": {},
   "source": [
    "## Paso 1. Abrir el archivo de datos y leer la información general"
   ]
  },
  {
   "cell_type": "code",
   "execution_count": 2,
   "metadata": {},
   "outputs": [],
   "source": [
    "data = pd.read_csv('/datasets/logs_exp_us.csv', sep='\\t')"
   ]
  },
  {
   "cell_type": "code",
   "execution_count": 3,
   "metadata": {},
   "outputs": [
    {
     "name": "stdout",
     "output_type": "stream",
     "text": [
      "<class 'pandas.core.frame.DataFrame'>\n",
      "RangeIndex: 244126 entries, 0 to 244125\n",
      "Data columns (total 4 columns):\n",
      " #   Column          Non-Null Count   Dtype \n",
      "---  ------          --------------   ----- \n",
      " 0   EventName       244126 non-null  object\n",
      " 1   DeviceIDHash    244126 non-null  int64 \n",
      " 2   EventTimestamp  244126 non-null  int64 \n",
      " 3   ExpId           244126 non-null  int64 \n",
      "dtypes: int64(3), object(1)\n",
      "memory usage: 7.5+ MB\n",
      "None\n"
     ]
    }
   ],
   "source": [
    "print(data.info())"
   ]
  },
  {
   "cell_type": "markdown",
   "metadata": {},
   "source": [
    "## Paso 2. Preparar los datos para el análisis"
   ]
  },
  {
   "cell_type": "markdown",
   "metadata": {},
   "source": [
    "### 2.1. Cambia el nombre de las columnas de manera que sea conveniente para ti"
   ]
  },
  {
   "cell_type": "code",
   "execution_count": 4,
   "metadata": {},
   "outputs": [
    {
     "name": "stdout",
     "output_type": "stream",
     "text": [
      "Index(['event_name', 'user_id', 'timestamp', 'group'], dtype='object')\n"
     ]
    }
   ],
   "source": [
    "data.columns = ['event_name', 'user_id', 'timestamp', 'group']\n",
    "\n",
    "print(data.columns)"
   ]
  },
  {
   "cell_type": "code",
   "execution_count": 5,
   "metadata": {},
   "outputs": [
    {
     "name": "stdout",
     "output_type": "stream",
     "text": [
      "                event_name              user_id   timestamp  group\n",
      "0         MainScreenAppear  4575588528974610257  1564029816    246\n",
      "1         MainScreenAppear  7416695313311560658  1564053102    246\n",
      "2  PaymentScreenSuccessful  3518123091307005509  1564054127    248\n",
      "3         CartScreenAppear  3518123091307005509  1564054127    248\n",
      "4  PaymentScreenSuccessful  6217807653094995999  1564055322    248\n"
     ]
    }
   ],
   "source": [
    "print(data.head(5))"
   ]
  },
  {
   "cell_type": "markdown",
   "metadata": {},
   "source": [
    "### 2.2 Comprueba si hay tipos de datos y valores ausentes. Corrige los datos si es necesario"
   ]
  },
  {
   "cell_type": "code",
   "execution_count": 6,
   "metadata": {},
   "outputs": [
    {
     "name": "stdout",
     "output_type": "stream",
     "text": [
      "event_name    0\n",
      "user_id       0\n",
      "timestamp     0\n",
      "group         0\n",
      "dtype: int64\n"
     ]
    }
   ],
   "source": [
    "\n",
    "print(data.isnull().sum())"
   ]
  },
  {
   "cell_type": "markdown",
   "metadata": {},
   "source": [
    "### 2.3 Agrega una columna de fecha y hora y una columna separada para las fechas"
   ]
  },
  {
   "cell_type": "code",
   "execution_count": 7,
   "metadata": {},
   "outputs": [
    {
     "data": {
      "text/html": [
       "<div>\n",
       "<style scoped>\n",
       "    .dataframe tbody tr th:only-of-type {\n",
       "        vertical-align: middle;\n",
       "    }\n",
       "\n",
       "    .dataframe tbody tr th {\n",
       "        vertical-align: top;\n",
       "    }\n",
       "\n",
       "    .dataframe thead th {\n",
       "        text-align: right;\n",
       "    }\n",
       "</style>\n",
       "<table border=\"1\" class=\"dataframe\">\n",
       "  <thead>\n",
       "    <tr style=\"text-align: right;\">\n",
       "      <th></th>\n",
       "      <th>event_name</th>\n",
       "      <th>user_id</th>\n",
       "      <th>timestamp</th>\n",
       "      <th>group</th>\n",
       "      <th>date</th>\n",
       "    </tr>\n",
       "  </thead>\n",
       "  <tbody>\n",
       "    <tr>\n",
       "      <th>0</th>\n",
       "      <td>MainScreenAppear</td>\n",
       "      <td>4575588528974610257</td>\n",
       "      <td>2019-07-25 04:43:36</td>\n",
       "      <td>246</td>\n",
       "      <td>2019-07-25</td>\n",
       "    </tr>\n",
       "    <tr>\n",
       "      <th>1</th>\n",
       "      <td>MainScreenAppear</td>\n",
       "      <td>7416695313311560658</td>\n",
       "      <td>2019-07-25 11:11:42</td>\n",
       "      <td>246</td>\n",
       "      <td>2019-07-25</td>\n",
       "    </tr>\n",
       "    <tr>\n",
       "      <th>2</th>\n",
       "      <td>PaymentScreenSuccessful</td>\n",
       "      <td>3518123091307005509</td>\n",
       "      <td>2019-07-25 11:28:47</td>\n",
       "      <td>248</td>\n",
       "      <td>2019-07-25</td>\n",
       "    </tr>\n",
       "    <tr>\n",
       "      <th>3</th>\n",
       "      <td>CartScreenAppear</td>\n",
       "      <td>3518123091307005509</td>\n",
       "      <td>2019-07-25 11:28:47</td>\n",
       "      <td>248</td>\n",
       "      <td>2019-07-25</td>\n",
       "    </tr>\n",
       "    <tr>\n",
       "      <th>4</th>\n",
       "      <td>PaymentScreenSuccessful</td>\n",
       "      <td>6217807653094995999</td>\n",
       "      <td>2019-07-25 11:48:42</td>\n",
       "      <td>248</td>\n",
       "      <td>2019-07-25</td>\n",
       "    </tr>\n",
       "  </tbody>\n",
       "</table>\n",
       "</div>"
      ],
      "text/plain": [
       "                event_name              user_id           timestamp  group  \\\n",
       "0         MainScreenAppear  4575588528974610257 2019-07-25 04:43:36    246   \n",
       "1         MainScreenAppear  7416695313311560658 2019-07-25 11:11:42    246   \n",
       "2  PaymentScreenSuccessful  3518123091307005509 2019-07-25 11:28:47    248   \n",
       "3         CartScreenAppear  3518123091307005509 2019-07-25 11:28:47    248   \n",
       "4  PaymentScreenSuccessful  6217807653094995999 2019-07-25 11:48:42    248   \n",
       "\n",
       "         date  \n",
       "0  2019-07-25  \n",
       "1  2019-07-25  \n",
       "2  2019-07-25  \n",
       "3  2019-07-25  \n",
       "4  2019-07-25  "
      ]
     },
     "execution_count": 7,
     "metadata": {},
     "output_type": "execute_result"
    }
   ],
   "source": [
    "data['timestamp'] = pd.to_datetime(data['timestamp'], unit='s')\n",
    "\n",
    "data['date'] = data['timestamp'].dt.date\n",
    "\n",
    "data.head()"
   ]
  },
  {
   "cell_type": "markdown",
   "metadata": {},
   "source": [
    "## Paso 3. Estudiar y comprobar los datos"
   ]
  },
  {
   "cell_type": "markdown",
   "metadata": {},
   "source": [
    "### 3.1 ¿Cuántos eventos hay en los registros?"
   ]
  },
  {
   "cell_type": "code",
   "execution_count": 8,
   "metadata": {},
   "outputs": [
    {
     "name": "stdout",
     "output_type": "stream",
     "text": [
      "244126\n"
     ]
    }
   ],
   "source": [
    "total_events = data['event_name'].count()\n",
    "\n",
    "print(total_events)"
   ]
  },
  {
   "cell_type": "markdown",
   "metadata": {},
   "source": [
    "### 3.2 ¿Cuántos usuarios y usuarias hay en los registros?"
   ]
  },
  {
   "cell_type": "code",
   "execution_count": 9,
   "metadata": {},
   "outputs": [
    {
     "name": "stdout",
     "output_type": "stream",
     "text": [
      "7551\n"
     ]
    }
   ],
   "source": [
    "unique_users = data['user_id'].nunique()\n",
    "\n",
    "print(unique_users)"
   ]
  },
  {
   "cell_type": "markdown",
   "metadata": {},
   "source": [
    "### 3.3 ¿Cuál es el promedio de eventos por usuario?"
   ]
  },
  {
   "cell_type": "code",
   "execution_count": 10,
   "metadata": {},
   "outputs": [
    {
     "name": "stdout",
     "output_type": "stream",
     "text": [
      "32.33028737915508\n"
     ]
    }
   ],
   "source": [
    "avg_events_per_user = total_events / unique_users\n",
    "\n",
    "print(avg_events_per_user)"
   ]
  },
  {
   "cell_type": "markdown",
   "metadata": {},
   "source": [
    "### 3.4.1 ¿Qué periodo de tiempo cubren los datos? Encuentra la fecha máxima y mínima."
   ]
  },
  {
   "cell_type": "code",
   "execution_count": 11,
   "metadata": {},
   "outputs": [
    {
     "name": "stdout",
     "output_type": "stream",
     "text": [
      "(Timestamp('2019-07-25 04:43:36'), Timestamp('2019-08-07 21:15:17'))\n"
     ]
    }
   ],
   "source": [
    "date_range = (data['timestamp'].min(), data['timestamp'].max())\n",
    "\n",
    "print(date_range)"
   ]
  },
  {
   "cell_type": "markdown",
   "metadata": {},
   "source": [
    "### 3.4.2 Traza un histograma por fecha y hora. ¿Puedes tener seguridad de que tienes datos igualmente completos para todo el periodo? Los eventos más antiguos podrían terminar en los registros de algunos usuarios o usuarias por razones técnicas y esto podría sesgar el panorama general. Encuentra el momento en el que los datos comienzan a estar completos e ignora la sección anterior. ¿Qué periodo representan realmente los datos?"
   ]
  },
  {
   "cell_type": "code",
   "execution_count": 12,
   "metadata": {},
   "outputs": [
    {
     "data": {
      "image/png": "[encoded data removed]",
      "text/plain": [
       "<Figure size 1200x600 with 1 Axes>"
      ]
     },
     "metadata": {},
     "output_type": "display_data"
    }
   ],
   "source": [
    "events_by_date = data.groupby('date').size()\n",
    "\n",
    "# Graficar el histograma\n",
    "plt.figure(figsize=(12, 6))\n",
    "plt.bar(events_by_date.index, events_by_date.values)\n",
    "plt.xlabel(\"Fecha\")\n",
    "plt.ylabel(\"Cantidad de eventos\")\n",
    "plt.title(\"Distribución de eventos por fecha\")\n",
    "plt.xticks(rotation=45)\n",
    "plt.show()"
   ]
  },
  {
   "cell_type": "code",
   "execution_count": 13,
   "metadata": {},
   "outputs": [
    {
     "name": "stdout",
     "output_type": "stream",
     "text": [
      "Periodo de datos consistentes: 2019-08-01 a 2019-08-07\n",
      "Total de eventos en el periodo consistente: 241298\n",
      "Cantidad de usuarios únicos en el periodo consistente: 7534\n"
     ]
    }
   ],
   "source": [
    "data_consistent = data[data['date'] >= pd.to_datetime('2019-08-01').date()]\n",
    "\n",
    "print(\"Periodo de datos consistentes:\", data_consistent['date'].min(), \"a\", data_consistent['date'].max())\n",
    "\n",
    "total_events_consistent = data_consistent['event_name'].count()\n",
    "unique_users_consistent = data_consistent['user_id'].nunique()\n",
    "\n",
    "print(\"Total de eventos en el periodo consistente:\", total_events_consistent)\n",
    "print(\"Cantidad de usuarios únicos en el periodo consistente:\", unique_users_consistent)"
   ]
  },
  {
   "cell_type": "markdown",
   "metadata": {},
   "source": [
    "### 3.5 ¿Perdiste muchos eventos y usuarios al excluir los datos más antiguos?"
   ]
  },
  {
   "cell_type": "code",
   "execution_count": 14,
   "metadata": {},
   "outputs": [
    {
     "name": "stdout",
     "output_type": "stream",
     "text": [
      "Eventos perdidos al excluir los datos antiguos: 2828\n",
      "Porcentaje de eventos perdidos: 1.1584181938834865 %\n",
      "Usuarios perdidos al excluir los datos antiguos: 17\n",
      "Porcentaje de usuarios perdidos: 0.22513574361011784 %\n"
     ]
    }
   ],
   "source": [
    "total_events_original = data['event_name'].count()\n",
    "unique_users_original = data['user_id'].nunique()\n",
    "\n",
    "events_lost = total_events_original - total_events_consistent\n",
    "users_lost = unique_users_original - unique_users_consistent\n",
    "\n",
    "events_lost_percentage = (events_lost / total_events_original) * 100\n",
    "users_lost_percentage = (users_lost / unique_users_original) * 100\n",
    "\n",
    "print(\"Eventos perdidos al excluir los datos antiguos:\", events_lost)\n",
    "print(\"Porcentaje de eventos perdidos:\", events_lost_percentage, \"%\")\n",
    "print(\"Usuarios perdidos al excluir los datos antiguos:\", users_lost)\n",
    "print(\"Porcentaje de usuarios perdidos:\", users_lost_percentage, \"%\")\n"
   ]
  },
  {
   "cell_type": "markdown",
   "metadata": {},
   "source": [
    "La pérdida de eventos y usuarios es bastante baja, lo que indica que la exclusión de los datos más antiguos no afecta significativamente el análisis general. Esto sugiere que el dataset consistente es representativo y adecuado para realizar el análisis de comportamiento de usuarios y las pruebas A/A/B."
   ]
  },
  {
   "cell_type": "markdown",
   "metadata": {},
   "source": [
    "## Paso 4. Estudiar el embudo de eventos"
   ]
  },
  {
   "cell_type": "markdown",
   "metadata": {},
   "source": [
    "### 4.1 Observa qué eventos hay en los registros y su frecuencia de suceso. Ordénalos por frecuencia."
   ]
  },
  {
   "cell_type": "code",
   "execution_count": 15,
   "metadata": {},
   "outputs": [
    {
     "name": "stdout",
     "output_type": "stream",
     "text": [
      "event_name\n",
      "MainScreenAppear           117431\n",
      "OffersScreenAppear          46350\n",
      "CartScreenAppear            42365\n",
      "PaymentScreenSuccessful     34113\n",
      "Tutorial                     1039\n",
      "Name: count, dtype: int64\n"
     ]
    }
   ],
   "source": [
    "event_frequency = data_consistent['event_name'].value_counts()\n",
    "\n",
    "print(event_frequency)\n"
   ]
  },
  {
   "cell_type": "markdown",
   "metadata": {},
   "source": [
    "Utiliza el embudo de eventos para encontrar la proporción de usuarios y usuarias que pasan de una etapa a la siguiente. (Por ejemplo, para la secuencia de eventos A → B → C, calcula la proporción de usuarios en la etapa B a la cantidad de usuarios en la etapa A y la proporción de usuarios en la etapa C a la cantidad en la etapa B).\n",
    "¿En qué etapa pierdes más usuarios y usuarias?\n",
    "¿Qué porcentaje de usuarios y usuarias hace todo el viaje desde su primer evento hasta el pago?"
   ]
  },
  {
   "cell_type": "code",
   "execution_count": 16,
   "metadata": {},
   "outputs": [
    {
     "name": "stdout",
     "output_type": "stream",
     "text": [
      "Usuarios únicos por etapa:\n",
      "MainScreenAppear: 7419\n",
      "OffersScreenAppear: 4593\n",
      "CartScreenAppear: 3734\n",
      "PaymentScreenSuccessful: 3539\n",
      "\n",
      "Proporciones de conversión entre etapas:\n",
      "MainScreenAppear → OffersScreenAppear: 61.91%\n",
      "OffersScreenAppear → CartScreenAppear: 81.30%\n",
      "CartScreenAppear → PaymentScreenSuccessful: 94.78%\n",
      "\n",
      "Porcentaje de usuarios que completaron todo el viaje desde la primera etapa hasta el pago: 47.70%\n"
     ]
    }
   ],
   "source": [
    "funnel_stages = [\"MainScreenAppear\", \"OffersScreenAppear\", \"CartScreenAppear\", \"PaymentScreenSuccessful\"]\n",
    "\n",
    "users_per_stage = {}\n",
    "\n",
    "for stage in funnel_stages:\n",
    "    users_per_stage[stage] = data_consistent[data_consistent['event_name'] == stage]['user_id'].nunique()\n",
    "\n",
    "print(\"Usuarios únicos por etapa:\")\n",
    "for stage, count in users_per_stage.items():\n",
    "    print(f\"{stage}: {count}\")\n",
    "\n",
    "conversion_rates = {}\n",
    "for i in range(len(funnel_stages) - 1):\n",
    "    current_stage = funnel_stages[i]\n",
    "    next_stage = funnel_stages[i + 1]\n",
    "    \n",
    "    if users_per_stage[current_stage] > 0:\n",
    "        conversion_rates[f\"{current_stage} → {next_stage}\"] = users_per_stage[next_stage] / users_per_stage[current_stage]\n",
    "    else:\n",
    "        conversion_rates[f\"{current_stage} → {next_stage}\"] = 0\n",
    "\n",
    "print(\"\\nProporciones de conversión entre etapas:\")\n",
    "for transition, rate in conversion_rates.items():\n",
    "    print(f\"{transition}: {rate:.2%}\")\n",
    "\n",
    "first_stage_users = users_per_stage[funnel_stages[0]]\n",
    "last_stage_users = users_per_stage[funnel_stages[-1]]\n",
    "\n",
    "if first_stage_users > 0:\n",
    "    complete_journey_rate = (last_stage_users / first_stage_users) * 100\n",
    "else:\n",
    "    complete_journey_rate = 0\n",
    "\n",
    "print(f\"\\nPorcentaje de usuarios que completaron todo el viaje desde la primera etapa hasta el pago: {complete_journey_rate:.2f}%\")\n"
   ]
  },
  {
   "cell_type": "markdown",
   "metadata": {},
   "source": [
    "### 4.2 Encuentra la cantidad de usuarios y usuarias que realizaron cada una de estas acciones. Ordena los eventos por el número de usuarios y usuarias. Calcula la proporción de usuarios y usuarias que realizaron la acción al menos una vez."
   ]
  },
  {
   "cell_type": "code",
   "execution_count": 17,
   "metadata": {},
   "outputs": [
    {
     "name": "stdout",
     "output_type": "stream",
     "text": [
      "Cantidad de usuarios únicos por evento y su proporción:\n",
      "MainScreenAppear: 7419 usuarios (98.47%)\n",
      "OffersScreenAppear: 4593 usuarios (60.96%)\n",
      "CartScreenAppear: 3734 usuarios (49.56%)\n",
      "PaymentScreenSuccessful: 3539 usuarios (46.97%)\n",
      "Tutorial: 840 usuarios (11.15%)\n"
     ]
    }
   ],
   "source": [
    "users_per_event = data_consistent.groupby('event_name')['user_id'].nunique().sort_values(ascending=False)\n",
    "\n",
    "total_users = data_consistent['user_id'].nunique()\n",
    "\n",
    "proportion_users_per_event = (users_per_event / total_users) * 100\n",
    "\n",
    "print(\"Cantidad de usuarios únicos por evento y su proporción:\")\n",
    "for event, user_count in users_per_event.items():\n",
    "    print(f\"{event}: {user_count} usuarios ({proportion_users_per_event[event]:.2f}%)\")\n"
   ]
  },
  {
   "cell_type": "markdown",
   "metadata": {},
   "source": [
    "### 4.3 ¿En qué orden crees que ocurrieron las acciones? ¿Todas son parte de una sola secuencia? No es necesario tenerlas en cuenta al calcular el embudo."
   ]
  },
  {
   "cell_type": "markdown",
   "metadata": {},
   "source": [
    "Las acciones MainScreenAppear > OffersScreenAppear > CartScreenAppear > PaymentScreenSuccessful parecen formar una secuencia lógica en el embudo de ventas. Tutorial no parece ser parte de este embudo principal y se podría considerar un evento auxiliar que no es necesario incluir en el análisis de conversión.\n",
    "\n",
    "La secuencia completa sugiere que los usuarios pasan de la visualización inicial (pantalla principal) a la exploración de ofertas, luego a la etapa de agregar productos al carrito, y finalmente a completar la compra."
   ]
  },
  {
   "cell_type": "markdown",
   "metadata": {},
   "source": [
    "### 4.4 Utiliza el embudo de eventos para encontrar la proporción de usuarios y usuarias que pasan de una etapa a la siguiente. "
   ]
  },
  {
   "cell_type": "code",
   "execution_count": 18,
   "metadata": {},
   "outputs": [
    {
     "name": "stdout",
     "output_type": "stream",
     "text": [
      "\n",
      "Proporciones de conversión entre etapas:\n",
      "MainScreenAppear → OffersScreenAppear: 61.91%\n",
      "OffersScreenAppear → CartScreenAppear: 81.30%\n",
      "CartScreenAppear → PaymentScreenSuccessful: 94.78%\n"
     ]
    }
   ],
   "source": [
    "print(\"\\nProporciones de conversión entre etapas:\")\n",
    "for transition, rate in conversion_rates.items():\n",
    "    print(f\"{transition}: {rate:.2%}\")\n",
    "\n",
    "first_stage_users = users_per_stage[funnel_stages[0]]\n",
    "last_stage_users = users_per_stage[funnel_stages[-1]]\n",
    "\n",
    "if first_stage_users > 0:\n",
    "    complete_journey_rate = (last_stage_users / first_stage_users) * 100\n",
    "else:\n",
    "    complete_journey_rate = 0\n"
   ]
  },
  {
   "cell_type": "markdown",
   "metadata": {},
   "source": [
    "- MainScreenAppear → OffersScreenAppear es la etapa en la que más usuarios se pierden, con una conversión de solo 61.91%.\n",
    "Las siguientes transiciones muestran mejores tasas de retención:\n",
    "- OffersScreenAppear → CartScreenAppear con 81.30%.\n",
    "- CartScreenAppear → PaymentScreenSuccessful es muy alta, con 94.78%.\n",
    "\n",
    "Esto indica que la mayor pérdida de usuarios ocurre al pasar de la pantalla principal a la pantalla de ofertas."
   ]
  },
  {
   "cell_type": "markdown",
   "metadata": {},
   "source": [
    "### 4.5 ¿En qué etapa pierdes más usuarios y usuarias?"
   ]
  },
  {
   "cell_type": "markdown",
   "metadata": {},
   "source": [
    "La etapa en la que se pierde más usuarios es la transición de MainScreenAppear a OffersScreenAppear, donde solo 61.91% de los usuarios avanzan. Esta es la mayor caída en el embudo de conversión, lo que indica que una parte significativa de los usuarios no interactúa con la pantalla de ofertas después de aparecer en la pantalla principal."
   ]
  },
  {
   "cell_type": "markdown",
   "metadata": {},
   "source": [
    "### 4.6 ¿Qué porcentaje de usuarios y usuarias hace todo el viaje desde su primer evento hasta el pago?"
   ]
  },
  {
   "cell_type": "markdown",
   "metadata": {},
   "source": [
    "El porcentaje de usuarios que completan todo el viaje desde la primera aparición en la pantalla principal (MainScreenAppear) hasta un pago exitoso (PaymentScreenSuccessful) es del 47.70%.\n",
    "\n",
    "Esto significa que aproximadamente la mitad de los usuarios que comienzan el proceso logran llegar hasta el final y completar una compra."
   ]
  },
  {
   "cell_type": "markdown",
   "metadata": {},
   "source": [
    "## Paso 5. Estudiar los resultados del experimento"
   ]
  },
  {
   "cell_type": "markdown",
   "metadata": {},
   "source": [
    "### 5.1 ¿Cuántos usuarios y usuarias hay en cada grupo?"
   ]
  },
  {
   "cell_type": "code",
   "execution_count": 19,
   "metadata": {},
   "outputs": [
    {
     "name": "stdout",
     "output_type": "stream",
     "text": [
      "Cantidad de usuarios únicos en cada grupo experimental:\n",
      "group\n",
      "246    2484\n",
      "247    2513\n",
      "248    2537\n",
      "Name: user_id, dtype: int64\n"
     ]
    }
   ],
   "source": [
    "users_per_group = data_consistent.groupby('group')['user_id'].nunique()\n",
    "print(\"Cantidad de usuarios únicos en cada grupo experimental:\")\n",
    "print(users_per_group)"
   ]
  },
  {
   "cell_type": "markdown",
   "metadata": {},
   "source": [
    "### 5.2 Tenemos dos grupos de control en el test A/A, donde comprobamos nuestros mecanismos y cálculos. Observa si hay una diferencia estadísticamente significativa entre las muestras 246 y 247. Selecciona el evento más popular. En cada uno de los grupos de control, encuentra la cantidad de usuarios y usuarias que realizaron esta acción. Encuentra su proporción. Comprueba si la diferencia entre los grupos es estadísticamente significativa. Repite el procedimiento para todos los demás eventos. "
   ]
  },
  {
   "cell_type": "code",
   "execution_count": 20,
   "metadata": {},
   "outputs": [
    {
     "data": {
      "text/html": [
       "<div>\n",
       "<style scoped>\n",
       "    .dataframe tbody tr th:only-of-type {\n",
       "        vertical-align: middle;\n",
       "    }\n",
       "\n",
       "    .dataframe tbody tr th {\n",
       "        vertical-align: top;\n",
       "    }\n",
       "\n",
       "    .dataframe thead th {\n",
       "        text-align: right;\n",
       "    }\n",
       "</style>\n",
       "<table border=\"1\" class=\"dataframe\">\n",
       "  <thead>\n",
       "    <tr style=\"text-align: right;\">\n",
       "      <th></th>\n",
       "      <th>group</th>\n",
       "      <th>event_name</th>\n",
       "      <th>unique_users</th>\n",
       "      <th>total_users</th>\n",
       "    </tr>\n",
       "  </thead>\n",
       "  <tbody>\n",
       "    <tr>\n",
       "      <th>0</th>\n",
       "      <td>246</td>\n",
       "      <td>CartScreenAppear</td>\n",
       "      <td>1266</td>\n",
       "      <td>2484</td>\n",
       "    </tr>\n",
       "    <tr>\n",
       "      <th>1</th>\n",
       "      <td>246</td>\n",
       "      <td>MainScreenAppear</td>\n",
       "      <td>2450</td>\n",
       "      <td>2484</td>\n",
       "    </tr>\n",
       "    <tr>\n",
       "      <th>2</th>\n",
       "      <td>246</td>\n",
       "      <td>OffersScreenAppear</td>\n",
       "      <td>1542</td>\n",
       "      <td>2484</td>\n",
       "    </tr>\n",
       "    <tr>\n",
       "      <th>3</th>\n",
       "      <td>246</td>\n",
       "      <td>PaymentScreenSuccessful</td>\n",
       "      <td>1200</td>\n",
       "      <td>2484</td>\n",
       "    </tr>\n",
       "    <tr>\n",
       "      <th>4</th>\n",
       "      <td>246</td>\n",
       "      <td>Tutorial</td>\n",
       "      <td>278</td>\n",
       "      <td>2484</td>\n",
       "    </tr>\n",
       "    <tr>\n",
       "      <th>5</th>\n",
       "      <td>247</td>\n",
       "      <td>CartScreenAppear</td>\n",
       "      <td>1238</td>\n",
       "      <td>2513</td>\n",
       "    </tr>\n",
       "    <tr>\n",
       "      <th>6</th>\n",
       "      <td>247</td>\n",
       "      <td>MainScreenAppear</td>\n",
       "      <td>2476</td>\n",
       "      <td>2513</td>\n",
       "    </tr>\n",
       "    <tr>\n",
       "      <th>7</th>\n",
       "      <td>247</td>\n",
       "      <td>OffersScreenAppear</td>\n",
       "      <td>1520</td>\n",
       "      <td>2513</td>\n",
       "    </tr>\n",
       "    <tr>\n",
       "      <th>8</th>\n",
       "      <td>247</td>\n",
       "      <td>PaymentScreenSuccessful</td>\n",
       "      <td>1158</td>\n",
       "      <td>2513</td>\n",
       "    </tr>\n",
       "    <tr>\n",
       "      <th>9</th>\n",
       "      <td>247</td>\n",
       "      <td>Tutorial</td>\n",
       "      <td>283</td>\n",
       "      <td>2513</td>\n",
       "    </tr>\n",
       "    <tr>\n",
       "      <th>10</th>\n",
       "      <td>248</td>\n",
       "      <td>CartScreenAppear</td>\n",
       "      <td>1230</td>\n",
       "      <td>2537</td>\n",
       "    </tr>\n",
       "    <tr>\n",
       "      <th>11</th>\n",
       "      <td>248</td>\n",
       "      <td>MainScreenAppear</td>\n",
       "      <td>2493</td>\n",
       "      <td>2537</td>\n",
       "    </tr>\n",
       "    <tr>\n",
       "      <th>12</th>\n",
       "      <td>248</td>\n",
       "      <td>OffersScreenAppear</td>\n",
       "      <td>1531</td>\n",
       "      <td>2537</td>\n",
       "    </tr>\n",
       "    <tr>\n",
       "      <th>13</th>\n",
       "      <td>248</td>\n",
       "      <td>PaymentScreenSuccessful</td>\n",
       "      <td>1181</td>\n",
       "      <td>2537</td>\n",
       "    </tr>\n",
       "    <tr>\n",
       "      <th>14</th>\n",
       "      <td>248</td>\n",
       "      <td>Tutorial</td>\n",
       "      <td>279</td>\n",
       "      <td>2537</td>\n",
       "    </tr>\n",
       "  </tbody>\n",
       "</table>\n",
       "</div>"
      ],
      "text/plain": [
       "    group               event_name  unique_users  total_users\n",
       "0     246         CartScreenAppear          1266         2484\n",
       "1     246         MainScreenAppear          2450         2484\n",
       "2     246       OffersScreenAppear          1542         2484\n",
       "3     246  PaymentScreenSuccessful          1200         2484\n",
       "4     246                 Tutorial           278         2484\n",
       "5     247         CartScreenAppear          1238         2513\n",
       "6     247         MainScreenAppear          2476         2513\n",
       "7     247       OffersScreenAppear          1520         2513\n",
       "8     247  PaymentScreenSuccessful          1158         2513\n",
       "9     247                 Tutorial           283         2513\n",
       "10    248         CartScreenAppear          1230         2537\n",
       "11    248         MainScreenAppear          2493         2537\n",
       "12    248       OffersScreenAppear          1531         2537\n",
       "13    248  PaymentScreenSuccessful          1181         2537\n",
       "14    248                 Tutorial           279         2537"
      ]
     },
     "execution_count": 20,
     "metadata": {},
     "output_type": "execute_result"
    }
   ],
   "source": [
    "# Agrupar por grupo y evento, y contar usuarios únicos\n",
    "aggregated_data = data_consistent.groupby(['group', 'event_name']).agg(\n",
    "    unique_users=('user_id', 'nunique')\n",
    ").reset_index()\n",
    "\n",
    "# Calcular totales por grupo\n",
    "total_users_by_group = data_consistent.groupby('group')['user_id'].nunique().reset_index()\n",
    "total_users_by_group.rename(columns={'user_id': 'total_users'}, inplace=True)\n",
    "\n",
    "# Combinar los totales con los datos agregados\n",
    "aggregated_data = aggregated_data.merge(total_users_by_group, on='group')\n",
    "\n",
    "aggregated_data\n"
   ]
  },
  {
   "cell_type": "code",
   "execution_count": 21,
   "metadata": {},
   "outputs": [
    {
     "data": {
      "text/plain": [
       "{'z': 0.3093441851418436, 'p_value': 0.7570597232046099, 'significant': False}"
      ]
     },
     "execution_count": 21,
     "metadata": {},
     "output_type": "execute_result"
    }
   ],
   "source": [
    "def z_test_proportions(group1_data, group2_data, alpha=0.05):\n",
    "    \"\"\"\n",
    "    Realiza una prueba z para proporciones entre dos grupos.\n",
    "    \"\"\"\n",
    "    p1 = group1_data['unique_users'] / group1_data['total_users']\n",
    "    p2 = group2_data['unique_users'] / group2_data['total_users']\n",
    "    n1, n2 = group1_data['total_users'], group2_data['total_users']\n",
    "    \n",
    "    # Proporción combinada\n",
    "    p_combined = (group1_data['unique_users'] + group2_data['unique_users']) / (n1 + n2)\n",
    "    \n",
    "    # Estadística z\n",
    "    z = (p1 - p2) / math.sqrt(p_combined * (1 - p_combined) * (1/n1 + 1/n2))\n",
    "    \n",
    "    # P-valor bilateral\n",
    "    p_value = 2 * (1 - norm.cdf(abs(z)))\n",
    "    \n",
    "    # Resultado\n",
    "    return {\"z\": z, \"p_value\": p_value, \"significant\": p_value < alpha}\n",
    "\n",
    "# Filtro para el evento más popular: MainScreenAppear\n",
    "event = \"MainScreenAppear\"\n",
    "group_246 = aggregated_data[(aggregated_data['group'] == 246) & (aggregated_data['event_name'] == 'MainScreenAppear')].iloc[0]\n",
    "group_247 = aggregated_data[(aggregated_data['group'] == 247) & (aggregated_data['event_name'] == 'MainScreenAppear')].iloc[0]\n",
    "\n",
    "# Prueba entre grupos de control 246 y 247 para MainScreenAppear\n",
    "z_test_result = z_test_proportions(group_246, group_247)\n",
    "z_test_result"
   ]
  },
  {
   "cell_type": "markdown",
   "metadata": {},
   "source": [
    "### 5.3 ¿Puedes confirmar que los grupos se dividieron correctamente?"
   ]
  },
  {
   "cell_type": "markdown",
   "metadata": {},
   "source": [
    "### 5.4 Haz lo mismo para el grupo con fuentes alteradas. Compara los resultados con los de cada uno de los grupos de control para cada evento de forma aislada."
   ]
  },
  {
   "cell_type": "code",
   "execution_count": 22,
   "metadata": {},
   "outputs": [
    {
     "data": {
      "text/html": [
       "<div>\n",
       "<style scoped>\n",
       "    .dataframe tbody tr th:only-of-type {\n",
       "        vertical-align: middle;\n",
       "    }\n",
       "\n",
       "    .dataframe tbody tr th {\n",
       "        vertical-align: top;\n",
       "    }\n",
       "\n",
       "    .dataframe thead th {\n",
       "        text-align: right;\n",
       "    }\n",
       "</style>\n",
       "<table border=\"1\" class=\"dataframe\">\n",
       "  <thead>\n",
       "    <tr style=\"text-align: right;\">\n",
       "      <th></th>\n",
       "      <th>z</th>\n",
       "      <th>p_value</th>\n",
       "      <th>significant</th>\n",
       "      <th>event_name</th>\n",
       "      <th>group1</th>\n",
       "      <th>group2</th>\n",
       "    </tr>\n",
       "  </thead>\n",
       "  <tbody>\n",
       "    <tr>\n",
       "      <th>0</th>\n",
       "      <td>1.203369</td>\n",
       "      <td>0.228834</td>\n",
       "      <td>False</td>\n",
       "      <td>CartScreenAppear</td>\n",
       "      <td>246</td>\n",
       "      <td>247</td>\n",
       "    </tr>\n",
       "    <tr>\n",
       "      <th>1</th>\n",
       "      <td>-1.759874</td>\n",
       "      <td>0.078429</td>\n",
       "      <td>False</td>\n",
       "      <td>CartScreenAppear</td>\n",
       "      <td>248</td>\n",
       "      <td>246</td>\n",
       "    </tr>\n",
       "    <tr>\n",
       "      <th>2</th>\n",
       "      <td>-0.555402</td>\n",
       "      <td>0.578620</td>\n",
       "      <td>False</td>\n",
       "      <td>CartScreenAppear</td>\n",
       "      <td>248</td>\n",
       "      <td>247</td>\n",
       "    </tr>\n",
       "    <tr>\n",
       "      <th>3</th>\n",
       "      <td>0.309344</td>\n",
       "      <td>0.757060</td>\n",
       "      <td>False</td>\n",
       "      <td>MainScreenAppear</td>\n",
       "      <td>246</td>\n",
       "      <td>247</td>\n",
       "    </tr>\n",
       "    <tr>\n",
       "      <th>4</th>\n",
       "      <td>-1.047276</td>\n",
       "      <td>0.294972</td>\n",
       "      <td>False</td>\n",
       "      <td>MainScreenAppear</td>\n",
       "      <td>248</td>\n",
       "      <td>246</td>\n",
       "    </tr>\n",
       "    <tr>\n",
       "      <th>5</th>\n",
       "      <td>-0.740980</td>\n",
       "      <td>0.458705</td>\n",
       "      <td>False</td>\n",
       "      <td>MainScreenAppear</td>\n",
       "      <td>248</td>\n",
       "      <td>247</td>\n",
       "    </tr>\n",
       "    <tr>\n",
       "      <th>6</th>\n",
       "      <td>1.154988</td>\n",
       "      <td>0.248095</td>\n",
       "      <td>False</td>\n",
       "      <td>OffersScreenAppear</td>\n",
       "      <td>246</td>\n",
       "      <td>247</td>\n",
       "    </tr>\n",
       "    <tr>\n",
       "      <th>7</th>\n",
       "      <td>-1.258082</td>\n",
       "      <td>0.208362</td>\n",
       "      <td>False</td>\n",
       "      <td>OffersScreenAppear</td>\n",
       "      <td>248</td>\n",
       "      <td>246</td>\n",
       "    </tr>\n",
       "    <tr>\n",
       "      <th>8</th>\n",
       "      <td>-0.100709</td>\n",
       "      <td>0.919782</td>\n",
       "      <td>False</td>\n",
       "      <td>OffersScreenAppear</td>\n",
       "      <td>248</td>\n",
       "      <td>247</td>\n",
       "    </tr>\n",
       "    <tr>\n",
       "      <th>9</th>\n",
       "      <td>1.577995</td>\n",
       "      <td>0.114567</td>\n",
       "      <td>False</td>\n",
       "      <td>PaymentScreenSuccessful</td>\n",
       "      <td>246</td>\n",
       "      <td>247</td>\n",
       "    </tr>\n",
       "    <tr>\n",
       "      <th>10</th>\n",
       "      <td>-1.247388</td>\n",
       "      <td>0.212255</td>\n",
       "      <td>False</td>\n",
       "      <td>PaymentScreenSuccessful</td>\n",
       "      <td>248</td>\n",
       "      <td>246</td>\n",
       "    </tr>\n",
       "    <tr>\n",
       "      <th>11</th>\n",
       "      <td>0.335376</td>\n",
       "      <td>0.737342</td>\n",
       "      <td>False</td>\n",
       "      <td>PaymentScreenSuccessful</td>\n",
       "      <td>248</td>\n",
       "      <td>247</td>\n",
       "    </tr>\n",
       "    <tr>\n",
       "      <th>12</th>\n",
       "      <td>-0.078161</td>\n",
       "      <td>0.937700</td>\n",
       "      <td>False</td>\n",
       "      <td>Tutorial</td>\n",
       "      <td>246</td>\n",
       "      <td>247</td>\n",
       "    </tr>\n",
       "    <tr>\n",
       "      <th>13</th>\n",
       "      <td>-0.219283</td>\n",
       "      <td>0.826429</td>\n",
       "      <td>False</td>\n",
       "      <td>Tutorial</td>\n",
       "      <td>248</td>\n",
       "      <td>246</td>\n",
       "    </tr>\n",
       "    <tr>\n",
       "      <th>14</th>\n",
       "      <td>-0.298497</td>\n",
       "      <td>0.765324</td>\n",
       "      <td>False</td>\n",
       "      <td>Tutorial</td>\n",
       "      <td>248</td>\n",
       "      <td>247</td>\n",
       "    </tr>\n",
       "  </tbody>\n",
       "</table>\n",
       "</div>"
      ],
      "text/plain": [
       "           z   p_value  significant               event_name  group1  group2\n",
       "0   1.203369  0.228834        False         CartScreenAppear     246     247\n",
       "1  -1.759874  0.078429        False         CartScreenAppear     248     246\n",
       "2  -0.555402  0.578620        False         CartScreenAppear     248     247\n",
       "3   0.309344  0.757060        False         MainScreenAppear     246     247\n",
       "4  -1.047276  0.294972        False         MainScreenAppear     248     246\n",
       "5  -0.740980  0.458705        False         MainScreenAppear     248     247\n",
       "6   1.154988  0.248095        False       OffersScreenAppear     246     247\n",
       "7  -1.258082  0.208362        False       OffersScreenAppear     248     246\n",
       "8  -0.100709  0.919782        False       OffersScreenAppear     248     247\n",
       "9   1.577995  0.114567        False  PaymentScreenSuccessful     246     247\n",
       "10 -1.247388  0.212255        False  PaymentScreenSuccessful     248     246\n",
       "11  0.335376  0.737342        False  PaymentScreenSuccessful     248     247\n",
       "12 -0.078161  0.937700        False                 Tutorial     246     247\n",
       "13 -0.219283  0.826429        False                 Tutorial     248     246\n",
       "14 -0.298497  0.765324        False                 Tutorial     248     247"
      ]
     },
     "execution_count": 22,
     "metadata": {},
     "output_type": "execute_result"
    }
   ],
   "source": [
    "results = []\n",
    "alpha = 0.05\n",
    "\n",
    "for event in aggregated_data['event_name'].unique():\n",
    "    group_246 = aggregated_data[(aggregated_data['group'] == 246) & (aggregated_data['event_name'] == event)].iloc[0]\n",
    "    group_247 = aggregated_data[(aggregated_data['group'] == 247) & (aggregated_data['event_name'] == event)].iloc[0]\n",
    "    group_248 = aggregated_data[(aggregated_data['group'] == 248) & (aggregated_data['event_name'] == event)].iloc[0]\n",
    "    \n",
    "    # Prueba entre grupos de control 246 y 247\n",
    "    result_control = z_test_proportions(group_246, group_247, alpha)\n",
    "    result_control.update({\"event_name\": event, \"group1\": 246, \"group2\": 247})\n",
    "    results.append(result_control)\n",
    "\n",
    "\n",
    "     # Prueba entre grupo de prueba 248 y control 246\n",
    "    result_248_vs_246 = z_test_proportions(group_248, group_246, alpha)\n",
    "    result_248_vs_246.update({\"event_name\": event, \"group1\": 248, \"group2\": 246})\n",
    "    results.append(result_248_vs_246)\n",
    "    \n",
    "    # Prueba entre grupo de prueba 248 y control 247\n",
    "    result_248_vs_247 = z_test_proportions(group_248, group_247, alpha)\n",
    "    result_248_vs_247.update({\"event_name\": event, \"group1\": 248, \"group2\": 247})\n",
    "    results.append(result_248_vs_247)\n",
    "\n",
    "# Convertir los resultados a un DataFrame para análisis\n",
    "results_df = pd.DataFrame(results)\n",
    "\n",
    "# Resultados generales\n",
    "results_df"
   ]
  },
  {
   "cell_type": "markdown",
   "metadata": {},
   "source": [
    "### 5.4.1 Compara los resultados con los resultados combinados de los grupos de control. ¿Qué conclusiones puedes sacar del experimento?"
   ]
  },
  {
   "cell_type": "markdown",
   "metadata": {},
   "source": [
    "#### Resultados clave:\n",
    "\n",
    "- Pruebas entre los grupos de control (246 y 247):\n",
    "\n",
    "Ningún evento muestra diferencias estadísticamente significativas entre los grupos de control. Esto sugiere que los grupos de control están balanceados y la división fue correcta.\n",
    "\n",
    "- Pruebas entre los grupos de prueba (248) y control (246 y 247):\n",
    "\n",
    "Ningún evento en el grupo de prueba muestra una diferencia estadísticamente significativa en comparación con los grupos de control.\n",
    "Esto indica que las fuentes nuevas no tuvieron un impacto negativo o positivo en los comportamientos de los usuarios medidos.\n",
    "\n",
    "- Pruebas combinadas de control (246 + 247) contra el grupo de prueba (248):\n",
    "\n",
    "Aunque esta comparación no se realizó directamente, los resultados por separado confirman que el cambio de fuentes no tuvo un efecto considerable en las métricas.\n",
    "\n",
    "Conclusiones:\n",
    "- Confirmación de balance: La ausencia de diferencias significativas entre los grupos 246 y 247 confirma que la división de los usuarios para el test A/A fue adecuada.\n",
    "- Impacto de las fuentes: No se encontraron diferencias significativas en ninguna de las métricas al comparar las fuentes nuevas con las antiguas, lo que implica que la fuente nueva no afecta la interacción del usuario.\n",
    "- Validez del experimento: Como ningún evento mostró diferencias significativas, los resultados sugieren que las fuentes nuevas pueden implementarse sin riesgo de afectar negativamente el comportamiento del usuario."
   ]
  },
  {
   "cell_type": "markdown",
   "metadata": {},
   "source": [
    "### 5.5 ¿Qué nivel de significación has establecido para probar las hipótesis estadísticas mencionadas anteriormente? Calcula cuántas pruebas de hipótesis estadísticas has realizado. Con un nivel de significancia estadística de 0.1, uno de cada 10 resultados podría ser falso. ¿Cuál debería ser el nivel de significación? Si deseas cambiarlo, vuelve a ejecutar los pasos anteriores y comprueba tus conclusiones."
   ]
  },
  {
   "cell_type": "markdown",
   "metadata": {},
   "source": [
    "- Número de pruebas: Se realizaron 15 pruebas estadísticas (tres grupos comparados en cinco eventos).\n",
    "- Nivel de significancia: Con un nivel de significancia de 0.05, el 5% de las pruebas podrían ser falsos positivos. Esto implica un riesgo de 0.75 (15 × 0.05) de encontrar un resultado falso positivo en todo el conjunto. Para reducir este riesgo, podríamos ajustar el nivel de significancia usando una corrección como Bonferroni (0.05 / 15 ≈ 0.0033)."
   ]
  }
 ],
 "metadata": {
  "kernelspec": {
   "display_name": "base",
   "language": "python",
   "name": "python3"
  },
  "language_info": {
   "codemirror_mode": {
    "name": "ipython",
    "version": 3
   },
   "file_extension": ".py",
   "mimetype": "text/x-python",
   "name": "python",
   "nbconvert_exporter": "python",
   "pygments_lexer": "ipython3",
   "version": "3.11.7"
  }
 },
 "nbformat": 4,
 "nbformat_minor": 2
}
